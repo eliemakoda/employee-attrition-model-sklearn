{
 "cells": [
  {
   "cell_type": "code",
   "execution_count": null,
   "metadata": {},
   "outputs": [],
   "source": [
    "import matplotlib.pyplot as plt\n",
    "from sklearn.model_selection import train_test_split\n",
    "import pandas as pd\n",
    "import numpy as np\n",
    "#essai avec la regression linéaire \n",
    "dataR= pd.read_csv(\"/content/employee_attrition.csv\")\n",
    "dataR.drop(\"EmployeeID\",axis=1,inplace=True)\n",
    "dataR.plot()\n",
    "from sklearn.model_selection import train_test_split\n",
    "from sklearn.ensemble import RandomForestClassifier\n",
    "x= dataR.drop(\"Attrition\",axis=1)\n",
    "y= dataR[\"Attrition\"]\n",
    "clf= RandomForestClassifier()\n",
    "xtrain,xtest,ytrain,ytest=train_test_split(x,y, test_size=0.2)\n",
    "clf.fit(xtrain,ytrain)\n",
    "clf.score(xtest,ytest)\n",
    "pred=clf.predict( [[0,110,4,9,5,4],\n",
    "    [31,2,15,4,1,4],\n",
    "    [61,4,24,1,4,3],\n",
    "    [77,4,35,3,1,1],\n",
    "    [81,5,7,1,2,3],\n",
    "    [113,4,112,5,4,1],\n",
    "    [101,2,48,5,1,4],\n",
    "    [45,4,22,5,3,1],\n",
    "    [25,2,2,2,3,2],\n",
    "    [97,3,15,3,2,4]])\n"
   ]
  }
 ],
 "metadata": {
  "language_info": {
   "name": "python"
  },
  "orig_nbformat": 4
 },
 "nbformat": 4,
 "nbformat_minor": 2
}
